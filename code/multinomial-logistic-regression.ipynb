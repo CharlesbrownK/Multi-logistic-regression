{
 "cells": [
  {
   "cell_type": "markdown",
   "id": "747b4b6b",
   "metadata": {},
   "source": [
    "# Multinomial Logistic Regression"
   ]
  },
  {
   "cell_type": "code",
   "execution_count": 1,
   "id": "6b13a86b",
   "metadata": {},
   "outputs": [
    {
     "data": {
      "text/html": [
       "<div>\n",
       "<style scoped>\n",
       "    .dataframe tbody tr th:only-of-type {\n",
       "        vertical-align: middle;\n",
       "    }\n",
       "\n",
       "    .dataframe tbody tr th {\n",
       "        vertical-align: top;\n",
       "    }\n",
       "\n",
       "    .dataframe thead th {\n",
       "        text-align: right;\n",
       "    }\n",
       "</style>\n",
       "<table border=\"1\" class=\"dataframe\">\n",
       "  <thead>\n",
       "    <tr style=\"text-align: right;\">\n",
       "      <th></th>\n",
       "      <th>Species</th>\n",
       "      <th>Weight</th>\n",
       "      <th>Length</th>\n",
       "      <th>Diagonal</th>\n",
       "      <th>Height</th>\n",
       "      <th>Width</th>\n",
       "    </tr>\n",
       "  </thead>\n",
       "  <tbody>\n",
       "    <tr>\n",
       "      <th>0</th>\n",
       "      <td>Bream</td>\n",
       "      <td>242.0</td>\n",
       "      <td>25.4</td>\n",
       "      <td>30.0</td>\n",
       "      <td>11.5200</td>\n",
       "      <td>4.0200</td>\n",
       "    </tr>\n",
       "    <tr>\n",
       "      <th>1</th>\n",
       "      <td>Bream</td>\n",
       "      <td>290.0</td>\n",
       "      <td>26.3</td>\n",
       "      <td>31.2</td>\n",
       "      <td>12.4800</td>\n",
       "      <td>4.3056</td>\n",
       "    </tr>\n",
       "    <tr>\n",
       "      <th>2</th>\n",
       "      <td>Bream</td>\n",
       "      <td>340.0</td>\n",
       "      <td>26.5</td>\n",
       "      <td>31.1</td>\n",
       "      <td>12.3778</td>\n",
       "      <td>4.6961</td>\n",
       "    </tr>\n",
       "    <tr>\n",
       "      <th>3</th>\n",
       "      <td>Bream</td>\n",
       "      <td>363.0</td>\n",
       "      <td>29.0</td>\n",
       "      <td>33.5</td>\n",
       "      <td>12.7300</td>\n",
       "      <td>4.4555</td>\n",
       "    </tr>\n",
       "    <tr>\n",
       "      <th>4</th>\n",
       "      <td>Bream</td>\n",
       "      <td>430.0</td>\n",
       "      <td>29.0</td>\n",
       "      <td>34.0</td>\n",
       "      <td>12.4440</td>\n",
       "      <td>5.1340</td>\n",
       "    </tr>\n",
       "  </tbody>\n",
       "</table>\n",
       "</div>"
      ],
      "text/plain": [
       "  Species  Weight  Length  Diagonal   Height   Width\n",
       "0   Bream   242.0    25.4      30.0  11.5200  4.0200\n",
       "1   Bream   290.0    26.3      31.2  12.4800  4.3056\n",
       "2   Bream   340.0    26.5      31.1  12.3778  4.6961\n",
       "3   Bream   363.0    29.0      33.5  12.7300  4.4555\n",
       "4   Bream   430.0    29.0      34.0  12.4440  5.1340"
      ]
     },
     "execution_count": 1,
     "metadata": {},
     "output_type": "execute_result"
    }
   ],
   "source": [
    "# Load Data\n",
    "import numpy as np\n",
    "import pandas as pd\n",
    "\n",
    "data = pd.read_csv('https://bit.ly/fish_csv_data')\n",
    "data.head()"
   ]
  },
  {
   "cell_type": "code",
   "execution_count": 2,
   "id": "b55fbcba",
   "metadata": {},
   "outputs": [
    {
     "name": "stdout",
     "output_type": "stream",
     "text": [
      "['Bream' 'Roach' 'Whitefish' 'Parkki' 'Perch' 'Pike' 'Smelt']\n"
     ]
    }
   ],
   "source": [
    "# Identify all fish species in data\n",
    "fish_target = data['Species'].to_numpy()\n",
    "fish_input = data[['Weight','Length','Diagonal','Height','Width']].to_numpy()\n",
    "print(pd.unique(data['Species']))"
   ]
  },
  {
   "cell_type": "code",
   "execution_count": 3,
   "id": "98b4af6b",
   "metadata": {},
   "outputs": [],
   "source": [
    "# Make train data and test data\n",
    "from sklearn.model_selection import train_test_split\n",
    "\n",
    "train_input, test_input, train_target, test_target = train_test_split(fish_input, fish_target, random_state=42)"
   ]
  },
  {
   "cell_type": "code",
   "execution_count": 4,
   "id": "236a7ae6",
   "metadata": {},
   "outputs": [],
   "source": [
    "# Normalization and Preprocessing train data and test data\n",
    "from sklearn.preprocessing import StandardScaler\n",
    "\n",
    "ss = StandardScaler()\n",
    "ss.fit(train_input)\n",
    "\n",
    "train_scaled = ss.transform(train_input)\n",
    "test_scaled = ss.transform(test_input)"
   ]
  },
  {
   "cell_type": "markdown",
   "id": "9de7553e",
   "metadata": {},
   "source": [
    "## K-NN Algorithms"
   ]
  },
  {
   "cell_type": "code",
   "execution_count": 5,
   "id": "e33a8db0",
   "metadata": {
    "scrolled": true
   },
   "outputs": [
    {
     "name": "stdout",
     "output_type": "stream",
     "text": [
      "0.8907563025210085\n",
      "0.85\n"
     ]
    },
    {
     "name": "stderr",
     "output_type": "stream",
     "text": [
      "C:\\Users\\ekjh0\\anaconda3\\lib\\site-packages\\sklearn\\neighbors\\_classification.py:228: FutureWarning: Unlike other reduction functions (e.g. `skew`, `kurtosis`), the default behavior of `mode` typically preserves the axis it acts along. In SciPy 1.11.0, this behavior will change: the default value of `keepdims` will become False, the `axis` over which the statistic is taken will be eliminated, and the value None will no longer be accepted. Set `keepdims` to True or False to avoid this warning.\n",
      "  mode, _ = stats.mode(_y[neigh_ind, k], axis=1)\n",
      "C:\\Users\\ekjh0\\anaconda3\\lib\\site-packages\\sklearn\\neighbors\\_classification.py:228: FutureWarning: Unlike other reduction functions (e.g. `skew`, `kurtosis`), the default behavior of `mode` typically preserves the axis it acts along. In SciPy 1.11.0, this behavior will change: the default value of `keepdims` will become False, the `axis` over which the statistic is taken will be eliminated, and the value None will no longer be accepted. Set `keepdims` to True or False to avoid this warning.\n",
      "  mode, _ = stats.mode(_y[neigh_ind, k], axis=1)\n"
     ]
    }
   ],
   "source": [
    "# Make KneighborsClassifier class object and identify train data and test data score\n",
    "from sklearn.neighbors import KNeighborsClassifier\n",
    "\n",
    "kn = KNeighborsClassifier(n_neighbors=3)\n",
    "kn.fit(train_scaled, train_target)\n",
    "\n",
    "print(kn.score(train_scaled, train_target))\n",
    "print(kn.score(test_scaled, test_target))"
   ]
  },
  {
   "cell_type": "code",
   "execution_count": 6,
   "id": "dac19501",
   "metadata": {},
   "outputs": [
    {
     "name": "stdout",
     "output_type": "stream",
     "text": [
      "Class : ['Bream' 'Parkki' 'Perch' 'Pike' 'Roach' 'Smelt' 'Whitefish']\n"
     ]
    }
   ],
   "source": [
    "# Identify class order\n",
    "print(f'Class : {kn.classes_}')"
   ]
  },
  {
   "cell_type": "code",
   "execution_count": 7,
   "id": "b1969e22",
   "metadata": {},
   "outputs": [
    {
     "name": "stdout",
     "output_type": "stream",
     "text": [
      "[[0.     0.     1.     0.     0.     0.     0.    ]\n",
      " [0.     0.     0.     0.     0.     1.     0.    ]\n",
      " [0.     0.     0.     1.     0.     0.     0.    ]\n",
      " [0.     0.     0.6667 0.     0.3333 0.     0.    ]\n",
      " [0.     0.     0.6667 0.     0.3333 0.     0.    ]\n",
      " [1.     0.     0.     0.     0.     0.     0.    ]\n",
      " [0.     0.     0.     0.     0.     1.     0.    ]\n",
      " [0.     0.     0.3333 0.     0.6667 0.     0.    ]\n",
      " [0.     0.     0.6667 0.     0.3333 0.     0.    ]\n",
      " [0.     0.     0.     1.     0.     0.     0.    ]]\n"
     ]
    }
   ],
   "source": [
    "# Identify 5 samples percentage in test data\n",
    "test = 10\n",
    "proba = kn.predict_proba(test_scaled[:test])\n",
    "knn_result = np.round(proba, decimals=4)\n",
    "print(knn_result)"
   ]
  },
  {
   "cell_type": "raw",
   "id": "f968f790",
   "metadata": {},
   "source": [
    "Order :  ['Bream' 'Parkki' 'Perch' 'Pike' 'Roach' 'Smelt' 'Whitefish']\n",
    "\n",
    "Sample1: [0.       0.       1.       0.     0.      0.      0.    ]\n",
    "Sample2: [0.       0.       0.       0.     0.      1.      0.    ]\n",
    "Sample3: [0.       0.       0.       1.     0.      0.      0.    ]\n",
    "Sample4: [0.       0.       0.6667   0.     0.3333  0.      0.    ]\n",
    "Sample5: [0.       0.       0.6667   0.     0.3333  0.      0.    ]"
   ]
  },
  {
   "cell_type": "code",
   "execution_count": 8,
   "id": "5200623f",
   "metadata": {},
   "outputs": [
    {
     "name": "stdout",
     "output_type": "stream",
     "text": [
      "Sample4 kneighbors : [['Roach' 'Perch' 'Perch']]\n"
     ]
    }
   ],
   "source": [
    "# Identify Sample4 kneighbors\n",
    "distances, indexes = kn.kneighbors(test_scaled[3:4])\n",
    "print(f\"Sample4 kneighbors : {train_target[indexes]}\")"
   ]
  },
  {
   "cell_type": "code",
   "execution_count": 9,
   "id": "b7047ae9",
   "metadata": {},
   "outputs": [
    {
     "name": "stdout",
     "output_type": "stream",
     "text": [
      "Predict Result : Perch\n",
      "Predict Result : Smelt\n",
      "Predict Result : Pike\n",
      "Predict Result : Perch\n",
      "Predict Result : Perch\n",
      "Predict Result : Bream\n",
      "Predict Result : Smelt\n",
      "Predict Result : Roach\n",
      "Predict Result : Perch\n",
      "Predict Result : Pike\n"
     ]
    }
   ],
   "source": [
    "knn_result = knn_result.tolist()\n",
    "fish = ['Bream', 'Parkki', 'Perch', 'Pike', 'Roach', 'Smelt', 'Whitefish']\n",
    "knn_predict = []\n",
    "\n",
    "for pre in knn_result:\n",
    "    pre_num = pre.index(max(pre))\n",
    "    predict_fish = fish[pre_num]\n",
    "    knn_predict.append(f\"{predict_fish}({max(pre)})\")\n",
    "    print(f\"Predict Result : {predict_fish}\")"
   ]
  },
  {
   "cell_type": "markdown",
   "id": "d8ed598a",
   "metadata": {},
   "source": [
    "## Logitic Regression"
   ]
  },
  {
   "cell_type": "code",
   "execution_count": 10,
   "id": "b0f5c3f4",
   "metadata": {},
   "outputs": [
    {
     "data": {
      "image/png": "[encoded data removed]",
      "text/plain": [
       "<Figure size 432x288 with 1 Axes>"
      ]
     },
     "metadata": {
      "needs_background": "light"
     },
     "output_type": "display_data"
    }
   ],
   "source": [
    "# Identify Sigmoid fuction reform\n",
    "import numpy as np\n",
    "from matplotlib import pyplot as plt\n",
    "\n",
    "z = np.arange(-5, 5, 0.1)\n",
    "phi = 1 / (1 + np.exp(-z))\n",
    "\n",
    "plt.title('Sigmoid Function')\n",
    "plt.plot(z, phi)\n",
    "plt.xlabel('z')\n",
    "plt.ylabel('phi')\n",
    "plt.show()"
   ]
  },
  {
   "cell_type": "code",
   "execution_count": 11,
   "id": "de2d9e26",
   "metadata": {},
   "outputs": [
    {
     "name": "stdout",
     "output_type": "stream",
     "text": [
      "['A' 'C']\n"
     ]
    }
   ],
   "source": [
    "# Binary Classification with Logistic Regression\n",
    "char_arr = np.array(['A', 'B', 'C', 'D', 'E'])\n",
    "print(char_arr[[True, False, True, False, False]])"
   ]
  },
  {
   "cell_type": "code",
   "execution_count": 12,
   "id": "683e3826",
   "metadata": {},
   "outputs": [
    {
     "name": "stdout",
     "output_type": "stream",
     "text": [
      "0.9327731092436975\n",
      "0.925\n"
     ]
    }
   ],
   "source": [
    "# Perform multi class classificaiton with Logistic Regression and train model\n",
    "from sklearn.linear_model import LogisticRegression\n",
    "\n",
    "model = LogisticRegression(C=20, max_iter=1000)\n",
    "# max_iter : 최대반복횟수, c : 정규화 강도의 역수(c의 값이 작을수록 더 강한 정규화 실행)\n",
    "model.fit(train_scaled, train_target)\n",
    "\n",
    "print(model.score(train_scaled, train_target))\n",
    "print(model.score(test_scaled, test_target))"
   ]
  },
  {
   "cell_type": "code",
   "execution_count": 13,
   "id": "b80c8531",
   "metadata": {},
   "outputs": [
    {
     "name": "stdout",
     "output_type": "stream",
     "text": [
      "Class : ['Bream' 'Parkki' 'Perch' 'Pike' 'Roach' 'Smelt' 'Whitefish']\n",
      "\n",
      "Predict Result:\n",
      "[[0.    0.014 0.841 0.    0.136 0.007 0.003]\n",
      " [0.    0.003 0.044 0.    0.007 0.946 0.   ]\n",
      " [0.    0.    0.034 0.935 0.015 0.016 0.   ]\n",
      " [0.011 0.034 0.306 0.007 0.567 0.    0.076]\n",
      " [0.    0.    0.904 0.002 0.089 0.002 0.001]]\n"
     ]
    }
   ],
   "source": [
    "# Identify class order\n",
    "print(f'Class : {kn.classes_}')\n",
    "\n",
    "print(\"\\nPredict Result:\")\n",
    "\n",
    "# Identify 5 samples percentage in test data\n",
    "proba = model.predict_proba(test_scaled[:5])\n",
    "print(np.round(proba, decimals=3))"
   ]
  },
  {
   "cell_type": "code",
   "execution_count": 14,
   "id": "cbca0124",
   "metadata": {},
   "outputs": [
    {
     "name": "stdout",
     "output_type": "stream",
     "text": [
      "[[-6.500e+00  1.030e+00  5.160e+00 -2.730e+00  3.340e+00  3.300e-01\n",
      "  -6.300e-01]\n",
      " [-1.086e+01  1.930e+00  4.770e+00 -2.400e+00  2.980e+00  7.840e+00\n",
      "  -4.260e+00]\n",
      " [-4.340e+00 -6.230e+00  3.170e+00  6.490e+00  2.360e+00  2.420e+00\n",
      "  -3.870e+00]\n",
      " [-6.800e-01  4.500e-01  2.650e+00 -1.190e+00  3.260e+00 -5.750e+00\n",
      "   1.260e+00]\n",
      " [-6.400e+00 -1.990e+00  5.820e+00 -1.100e-01  3.500e+00 -1.100e-01\n",
      "  -7.100e-01]\n",
      " [ 1.672e+01  8.350e+00 -3.340e+00 -4.900e+00  8.700e-01 -2.653e+01\n",
      "   8.830e+00]\n",
      " [-1.233e+01  1.910e+00  5.760e+00 -2.900e+00  3.170e+00  8.690e+00\n",
      "  -4.300e+00]\n",
      " [-2.620e+00 -8.500e-01  2.910e+00 -1.800e-01  3.600e+00 -2.880e+00\n",
      "   2.000e-02]\n",
      " [-3.840e+00 -1.050e+00  4.990e+00 -9.300e-01  3.500e+00 -3.400e+00\n",
      "   7.300e-01]\n",
      " [ 1.680e+00 -1.446e+01  1.050e+01  1.426e+01 -9.100e-01 -1.221e+01\n",
      "   1.140e+00]]\n"
     ]
    }
   ],
   "source": [
    "# Identify 5 samples percentage in test data\n",
    "decision = model.decision_function(test_scaled[:test])\n",
    "print(np.round(decision, decimals=2))"
   ]
  },
  {
   "cell_type": "code",
   "execution_count": 15,
   "id": "27094f93",
   "metadata": {},
   "outputs": [
    {
     "name": "stdout",
     "output_type": "stream",
     "text": [
      "[[0.    0.014 0.841 0.    0.136 0.007 0.003]\n",
      " [0.    0.003 0.044 0.    0.007 0.946 0.   ]\n",
      " [0.    0.    0.034 0.935 0.015 0.016 0.   ]\n",
      " [0.011 0.034 0.306 0.007 0.567 0.    0.076]\n",
      " [0.    0.    0.904 0.002 0.089 0.002 0.001]\n",
      " [0.999 0.    0.    0.    0.    0.    0.   ]\n",
      " [0.    0.001 0.05  0.    0.004 0.945 0.   ]\n",
      " [0.001 0.007 0.32  0.015 0.638 0.001 0.018]\n",
      " [0.    0.002 0.802 0.002 0.182 0.    0.011]\n",
      " [0.    0.    0.023 0.977 0.    0.    0.   ]]\n"
     ]
    }
   ],
   "source": [
    "from scipy.special import softmax\n",
    "\n",
    "proba = softmax(decision, axis=1)\n",
    "logistic_result = np.round(proba, decimals=3)\n",
    "print(logistic_result)"
   ]
  },
  {
   "cell_type": "code",
   "execution_count": 16,
   "id": "14c2d12c",
   "metadata": {},
   "outputs": [
    {
     "name": "stdout",
     "output_type": "stream",
     "text": [
      "Predict Result : Perch\n",
      "Predict Result : Smelt\n",
      "Predict Result : Pike\n",
      "Predict Result : Roach\n",
      "Predict Result : Perch\n",
      "Predict Result : Bream\n",
      "Predict Result : Smelt\n",
      "Predict Result : Roach\n",
      "Predict Result : Perch\n",
      "Predict Result : Pike\n"
     ]
    }
   ],
   "source": [
    "logistic_result = logistic_result.tolist()\n",
    "fish = ['Bream', 'Parkki', 'Perch', 'Pike', 'Roach', 'Smelt', 'Whitefish']\n",
    "logistic_predict = []\n",
    "\n",
    "for pre in logistic_result:\n",
    "    pre_num = pre.index(max(pre))\n",
    "    predict_fish = fish[pre_num]\n",
    "    logistic_predict.append(f\"{predict_fish}({max(pre)})\")\n",
    "    print(f\"Predict Result : {predict_fish}\")"
   ]
  },
  {
   "cell_type": "code",
   "execution_count": 17,
   "id": "58785a5a",
   "metadata": {},
   "outputs": [
    {
     "name": "stdout",
     "output_type": "stream",
     "text": [
      "Compare predict between KNN(left) and LogisticRegression(right)\n",
      "\n",
      "Perch(1.0), Perch(0.841)\n",
      "Smelt(1.0), Smelt(0.946)\n",
      "Pike(1.0), Pike(0.935)\n",
      "Perch(0.6667), Roach(0.567)\n",
      "Perch(0.6667), Perch(0.904)\n",
      "Bream(1.0), Bream(0.999)\n",
      "Smelt(1.0), Smelt(0.945)\n",
      "Roach(0.6667), Roach(0.638)\n",
      "Perch(0.6667), Perch(0.802)\n",
      "Pike(1.0), Pike(0.977)\n"
     ]
    }
   ],
   "source": [
    "print(\"Compare predict between KNN(left) and LogisticRegression(right)\\n\")\n",
    "for i in range(test):\n",
    "    print(f'{knn_predict[i]}, {logistic_predict[i]}')"
   ]
  },
  {
   "cell_type": "markdown",
   "id": "0bb3fd9c",
   "metadata": {},
   "source": [
    "'KNN'과 '로지스틱 회귀'는 둘 다 예측 값이 동일하다. 하지만 데이터의 양이 많지 않기 때문에 생선 데이터에서는 KNN의 호율이 더 좋았다."
   ]
  }
 ],
 "metadata": {
  "kernelspec": {
   "display_name": "Python 3 (ipykernel)",
   "language": "python",
   "name": "python3"
  },
  "language_info": {
   "codemirror_mode": {
    "name": "ipython",
    "version": 3
   },
   "file_extension": ".py",
   "mimetype": "text/x-python",
   "name": "python",
   "nbconvert_exporter": "python",
   "pygments_lexer": "ipython3",
   "version": "3.9.12"
  }
 },
 "nbformat": 4,
 "nbformat_minor": 5
}
